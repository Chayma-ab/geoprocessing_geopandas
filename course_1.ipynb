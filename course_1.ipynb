{
 "cells": [
  {
   "cell_type": "code",
   "execution_count": 3,
   "id": "635978c7-49e7-4b17-826f-4cb869a7a827",
   "metadata": {},
   "outputs": [],
   "source": [
    "%matplotlib inline\n",
    "import geopandas as gpd"
   ]
  },
  {
   "cell_type": "code",
   "execution_count": 4,
   "id": "3c68ae6e-836f-4936-90ea-d2ba7f5f8509",
   "metadata": {},
   "outputs": [],
   "source": [
    "data = gpd.read_file(\"TUN_adm/TUN_adm1.shp\")"
   ]
  },
  {
   "cell_type": "code",
   "execution_count": 7,
   "id": "3bf356c8-a2a8-4198-8093-89a827c22be1",
   "metadata": {},
   "outputs": [
    {
     "data": {
      "text/html": [
       "<div>\n",
       "<style scoped>\n",
       "    .dataframe tbody tr th:only-of-type {\n",
       "        vertical-align: middle;\n",
       "    }\n",
       "\n",
       "    .dataframe tbody tr th {\n",
       "        vertical-align: top;\n",
       "    }\n",
       "\n",
       "    .dataframe thead th {\n",
       "        text-align: right;\n",
       "    }\n",
       "</style>\n",
       "<table border=\"1\" class=\"dataframe\">\n",
       "  <thead>\n",
       "    <tr style=\"text-align: right;\">\n",
       "      <th></th>\n",
       "      <th>ID_0</th>\n",
       "      <th>ISO</th>\n",
       "      <th>NAME_0</th>\n",
       "      <th>ID_1</th>\n",
       "      <th>NAME_1</th>\n",
       "      <th>TYPE_1</th>\n",
       "      <th>ENGTYPE_1</th>\n",
       "      <th>NL_NAME_1</th>\n",
       "      <th>VARNAME_1</th>\n",
       "      <th>geometry</th>\n",
       "    </tr>\n",
       "  </thead>\n",
       "  <tbody>\n",
       "    <tr>\n",
       "      <th>0</th>\n",
       "      <td>234</td>\n",
       "      <td>TUN</td>\n",
       "      <td>Tunisia</td>\n",
       "      <td>1</td>\n",
       "      <td>Ariana</td>\n",
       "      <td>Wilayat</td>\n",
       "      <td>Governorate</td>\n",
       "      <td>NaN</td>\n",
       "      <td>Al Aryiānah|L'Ariana|Tunis Ariana|Al Aryānah</td>\n",
       "      <td>MULTIPOLYGON (((10.21097 37.09347, 10.21097 37...</td>\n",
       "    </tr>\n",
       "    <tr>\n",
       "      <th>1</th>\n",
       "      <td>234</td>\n",
       "      <td>TUN</td>\n",
       "      <td>Tunisia</td>\n",
       "      <td>2</td>\n",
       "      <td>Béja</td>\n",
       "      <td>Wilayat</td>\n",
       "      <td>Governorate</td>\n",
       "      <td>NaN</td>\n",
       "      <td>Bājah|Béja</td>\n",
       "      <td>POLYGON ((9.08780 37.15875, 9.08878 37.15524, ...</td>\n",
       "    </tr>\n",
       "    <tr>\n",
       "      <th>2</th>\n",
       "      <td>234</td>\n",
       "      <td>TUN</td>\n",
       "      <td>Tunisia</td>\n",
       "      <td>3</td>\n",
       "      <td>Ben Arous (Tunis Sud)</td>\n",
       "      <td>Wilayat</td>\n",
       "      <td>Governorate</td>\n",
       "      <td>NaN</td>\n",
       "      <td>Bin `Arūs|Ben Arous|Tunis Ben Arous</td>\n",
       "      <td>POLYGON ((10.29486 36.81042, 10.29486 36.81014...</td>\n",
       "    </tr>\n",
       "    <tr>\n",
       "      <th>3</th>\n",
       "      <td>234</td>\n",
       "      <td>TUN</td>\n",
       "      <td>Tunisia</td>\n",
       "      <td>4</td>\n",
       "      <td>Bizerte</td>\n",
       "      <td>Wilayat</td>\n",
       "      <td>Governorate</td>\n",
       "      <td>NaN</td>\n",
       "      <td>BanzartBanzart|Bensert|Binzart|Biserta|Bizerta</td>\n",
       "      <td>MULTIPOLYGON (((10.23347 37.16264, 10.23347 37...</td>\n",
       "    </tr>\n",
       "    <tr>\n",
       "      <th>4</th>\n",
       "      <td>234</td>\n",
       "      <td>TUN</td>\n",
       "      <td>Tunisia</td>\n",
       "      <td>5</td>\n",
       "      <td>Gabès</td>\n",
       "      <td>Wilayat</td>\n",
       "      <td>Governorate</td>\n",
       "      <td>NaN</td>\n",
       "      <td>Qābis|Gabās</td>\n",
       "      <td>POLYGON ((9.67867 34.30668, 9.69478 34.30259, ...</td>\n",
       "    </tr>\n",
       "  </tbody>\n",
       "</table>\n",
       "</div>"
      ],
      "text/plain": [
       "   ID_0  ISO   NAME_0  ID_1                 NAME_1   TYPE_1    ENGTYPE_1  \\\n",
       "0   234  TUN  Tunisia     1                 Ariana  Wilayat  Governorate   \n",
       "1   234  TUN  Tunisia     2                   Béja  Wilayat  Governorate   \n",
       "2   234  TUN  Tunisia     3  Ben Arous (Tunis Sud)  Wilayat  Governorate   \n",
       "3   234  TUN  Tunisia     4                Bizerte  Wilayat  Governorate   \n",
       "4   234  TUN  Tunisia     5                  Gabès  Wilayat  Governorate   \n",
       "\n",
       "   NL_NAME_1                                       VARNAME_1  \\\n",
       "0        NaN    Al Aryiānah|L'Ariana|Tunis Ariana|Al Aryānah   \n",
       "1        NaN                                      Bājah|Béja   \n",
       "2        NaN             Bin `Arūs|Ben Arous|Tunis Ben Arous   \n",
       "3        NaN  BanzartBanzart|Bensert|Binzart|Biserta|Bizerta   \n",
       "4        NaN                                     Qābis|Gabās   \n",
       "\n",
       "                                            geometry  \n",
       "0  MULTIPOLYGON (((10.21097 37.09347, 10.21097 37...  \n",
       "1  POLYGON ((9.08780 37.15875, 9.08878 37.15524, ...  \n",
       "2  POLYGON ((10.29486 36.81042, 10.29486 36.81014...  \n",
       "3  MULTIPOLYGON (((10.23347 37.16264, 10.23347 37...  \n",
       "4  POLYGON ((9.67867 34.30668, 9.69478 34.30259, ...  "
      ]
     },
     "execution_count": 7,
     "metadata": {},
     "output_type": "execute_result"
    }
   ],
   "source": [
    "data.head()"
   ]
  },
  {
   "cell_type": "code",
   "execution_count": 8,
   "id": "aa928ac9-004c-43a5-9b81-0f00410e7a00",
   "metadata": {},
   "outputs": [
    {
     "data": {
      "image/svg+xml": [
       "<svg xmlns=\"http://www.w3.org/2000/svg\" xmlns:xlink=\"http://www.w3.org/1999/xlink\" width=\"100.0\" height=\"100.0\" viewBox=\"1.2000000000000002 3.2 2.0 2.0\" preserveAspectRatio=\"xMinYMin meet\"><g transform=\"matrix(1,0,0,-1,0,8.4)\"><circle cx=\"2.2\" cy=\"4.2\" r=\"0.06\" stroke=\"#555555\" stroke-width=\"0.02\" fill=\"#66cc99\" opacity=\"0.6\" /></g></svg>"
      ],
      "text/plain": [
       "<POINT (2.2 4.2)>"
      ]
     },
     "execution_count": 8,
     "metadata": {},
     "output_type": "execute_result"
    }
   ],
   "source": [
    "from shapely.geometry import Point\n",
    "\n",
    "point = Point(2.2, 4.2)\n",
    "point3D = Point(9.26, -2.456, 0.57)\n",
    "\n",
    "point"
   ]
  },
  {
   "cell_type": "code",
   "execution_count": 9,
   "id": "aef1391c-ce79-4b99-b009-f1ba2f24f47c",
   "metadata": {},
   "outputs": [
    {
     "data": {
      "text/plain": [
       "geopandas.geodataframe.GeoDataFrame"
      ]
     },
     "execution_count": 9,
     "metadata": {},
     "output_type": "execute_result"
    }
   ],
   "source": [
    "type(data)"
   ]
  },
  {
   "cell_type": "code",
   "execution_count": 10,
   "id": "27d8889a-7543-4b2f-90d8-f1005c69464c",
   "metadata": {},
   "outputs": [
    {
     "name": "stdout",
     "output_type": "stream",
     "text": [
      "Number of rows 24\n"
     ]
    }
   ],
   "source": [
    "print(\"Number of rows\", len(data))"
   ]
  },
  {
   "cell_type": "code",
   "execution_count": 11,
   "id": "9f3b4669-b7ca-42b9-9ade-e79ad9078559",
   "metadata": {},
   "outputs": [
    {
     "data": {
      "text/plain": [
       "<Axes: >"
      ]
     },
     "execution_count": 11,
     "metadata": {},
     "output_type": "execute_result"
    },
    {
     "data": {
      "image/png": "[encoded data removed]",
      "text/plain": [
       "<Figure size 640x480 with 1 Axes>"
      ]
     },
     "metadata": {},
     "output_type": "display_data"
    }
   ],
   "source": [
    "data.plot()"
   ]
  },
  {
   "cell_type": "code",
   "execution_count": 12,
   "id": "1305f975-9175-469b-a255-f556c6e5b1b2",
   "metadata": {},
   "outputs": [
    {
     "data": {
      "text/plain": [
       "0    MULTIPOLYGON (((10.21097 37.09347, 10.21097 37...\n",
       "1    POLYGON ((9.08780 37.15875, 9.08878 37.15524, ...\n",
       "2    POLYGON ((10.29486 36.81042, 10.29486 36.81014...\n",
       "3    MULTIPOLYGON (((10.23347 37.16264, 10.23347 37...\n",
       "4    POLYGON ((9.67867 34.30668, 9.69478 34.30259, ...\n",
       "Name: geometry, dtype: geometry"
      ]
     },
     "execution_count": 12,
     "metadata": {},
     "output_type": "execute_result"
    }
   ],
   "source": [
    "data[\"geometry\"].head()"
   ]
  },
  {
   "cell_type": "code",
   "execution_count": 19,
   "id": "1e8f6585-8de4-4f02-becd-e88e3527d5ba",
   "metadata": {},
   "outputs": [],
   "source": [
    "import fiona"
   ]
  },
  {
   "cell_type": "code",
   "execution_count": 20,
   "id": "74327c6b-12ff-422d-bdaf-ddbdfe734e9b",
   "metadata": {},
   "outputs": [
    {
     "data": {
      "text/plain": [
       "{'DXF': 'rw',\n",
       " 'CSV': 'raw',\n",
       " 'OpenFileGDB': 'raw',\n",
       " 'ESRIJSON': 'r',\n",
       " 'ESRI Shapefile': 'raw',\n",
       " 'FlatGeobuf': 'raw',\n",
       " 'GeoJSON': 'raw',\n",
       " 'GeoJSONSeq': 'raw',\n",
       " 'GPKG': 'raw',\n",
       " 'GML': 'rw',\n",
       " 'OGR_GMT': 'rw',\n",
       " 'GPX': 'rw',\n",
       " 'Idrisi': 'r',\n",
       " 'MapInfo File': 'raw',\n",
       " 'DGN': 'raw',\n",
       " 'PCIDSK': 'raw',\n",
       " 'OGR_PDS': 'r',\n",
       " 'S57': 'r',\n",
       " 'SQLite': 'raw',\n",
       " 'TopoJSON': 'r'}"
      ]
     },
     "execution_count": 20,
     "metadata": {},
     "output_type": "execute_result"
    }
   ],
   "source": [
    "fiona.supported_drivers"
   ]
  },
  {
   "cell_type": "code",
   "execution_count": 21,
   "id": "6fe173bd-de51-4fb4-801e-1026dec00dcc",
   "metadata": {},
   "outputs": [],
   "source": [
    "from shapely.geometry import Polygon\n",
    "\n",
    "# Coordinates of the Helsinki Senate square in decimal degrees\n",
    "coordinates = [\n",
    "    (24.950899, 60.169158),\n",
    "    (24.953492, 60.169158),\n",
    "    (24.953510, 60.170104),\n",
    "    (24.950958, 60.169990),\n",
    "]\n",
    "\n",
    "# Create a Shapely polygon from the coordinate-tuple list\n",
    "poly = Polygon(coordinates)"
   ]
  },
  {
   "cell_type": "code",
   "execution_count": 22,
   "id": "db9dfbc1-c542-4b6f-8800-7049a0d60a9d",
   "metadata": {},
   "outputs": [
    {
     "data": {
      "image/svg+xml": [
       "<svg xmlns=\"http://www.w3.org/2000/svg\" xmlns:xlink=\"http://www.w3.org/1999/xlink\" width=\"100.0\" height=\"100.0\" viewBox=\"24.95079456 60.16905356 0.0028198800000041047 0.0011548800000014126\" preserveAspectRatio=\"xMinYMin meet\"><g transform=\"matrix(1,0,0,-1,0,120.339262)\"><path fill-rule=\"evenodd\" fill=\"#66cc99\" stroke=\"#555555\" stroke-width=\"5.639760000008209e-05\" opacity=\"0.6\" d=\"M 24.950899,60.169158 L 24.953492,60.169158 L 24.95351,60.170104 L 24.950958,60.16999 L 24.950899,60.169158 z\" /></g></svg>"
      ],
      "text/plain": [
       "<POLYGON ((24.951 60.169, 24.953 60.169, 24.954 60.17, 24.951 60.17, 24.951 ...>"
      ]
     },
     "execution_count": 22,
     "metadata": {},
     "output_type": "execute_result"
    }
   ],
   "source": [
    "poly"
   ]
  },
  {
   "cell_type": "code",
   "execution_count": 23,
   "id": "9d0636fe-a63a-4654-b347-aeb5c45087ad",
   "metadata": {},
   "outputs": [
    {
     "name": "stdout",
     "output_type": "stream",
     "text": [
      "POLYGON ((24.950899 60.169158, 24.953492 60.169158, 24.95351 60.170104, 24.950958 60.16999, 24.950899 60.169158))\n"
     ]
    }
   ],
   "source": [
    "print(poly)"
   ]
  },
  {
   "cell_type": "code",
   "execution_count": 24,
   "id": "f8a7b837-dbf2-4856-9ea0-44b6bedf09ed",
   "metadata": {},
   "outputs": [],
   "source": [
    "newdata = gpd.GeoDataFrame(data=[poly], columns=[\"geometry\"])"
   ]
  },
  {
   "cell_type": "code",
   "execution_count": 25,
   "id": "fa976a1e-c2c7-4dcb-9d49-efeecfd6b597",
   "metadata": {},
   "outputs": [
    {
     "data": {
      "text/html": [
       "<div>\n",
       "<style scoped>\n",
       "    .dataframe tbody tr th:only-of-type {\n",
       "        vertical-align: middle;\n",
       "    }\n",
       "\n",
       "    .dataframe tbody tr th {\n",
       "        vertical-align: top;\n",
       "    }\n",
       "\n",
       "    .dataframe thead th {\n",
       "        text-align: right;\n",
       "    }\n",
       "</style>\n",
       "<table border=\"1\" class=\"dataframe\">\n",
       "  <thead>\n",
       "    <tr style=\"text-align: right;\">\n",
       "      <th></th>\n",
       "      <th>geometry</th>\n",
       "    </tr>\n",
       "  </thead>\n",
       "  <tbody>\n",
       "    <tr>\n",
       "      <th>0</th>\n",
       "      <td>POLYGON ((24.95090 60.16916, 24.95349 60.16916...</td>\n",
       "    </tr>\n",
       "  </tbody>\n",
       "</table>\n",
       "</div>"
      ],
      "text/plain": [
       "                                            geometry\n",
       "0  POLYGON ((24.95090 60.16916, 24.95349 60.16916..."
      ]
     },
     "execution_count": 25,
     "metadata": {},
     "output_type": "execute_result"
    }
   ],
   "source": [
    "newdata"
   ]
  },
  {
   "cell_type": "code",
   "execution_count": 27,
   "id": "efe18f4d-77fa-463b-9d82-83a1c4d9b271",
   "metadata": {},
   "outputs": [
    {
     "data": {
      "text/html": [
       "<div>\n",
       "<style scoped>\n",
       "    .dataframe tbody tr th:only-of-type {\n",
       "        vertical-align: middle;\n",
       "    }\n",
       "\n",
       "    .dataframe tbody tr th {\n",
       "        vertical-align: top;\n",
       "    }\n",
       "\n",
       "    .dataframe thead th {\n",
       "        text-align: right;\n",
       "    }\n",
       "</style>\n",
       "<table border=\"1\" class=\"dataframe\">\n",
       "  <thead>\n",
       "    <tr style=\"text-align: right;\">\n",
       "      <th></th>\n",
       "      <th>geometry</th>\n",
       "      <th>name</th>\n",
       "    </tr>\n",
       "  </thead>\n",
       "  <tbody>\n",
       "    <tr>\n",
       "      <th>0</th>\n",
       "      <td>POLYGON ((24.95090 60.16916, 24.95349 60.16916...</td>\n",
       "      <td>Tunisia</td>\n",
       "    </tr>\n",
       "  </tbody>\n",
       "</table>\n",
       "</div>"
      ],
      "text/plain": [
       "                                            geometry     name\n",
       "0  POLYGON ((24.95090 60.16916, 24.95349 60.16916...  Tunisia"
      ]
     },
     "execution_count": 27,
     "metadata": {},
     "output_type": "execute_result"
    }
   ],
   "source": [
    "# Add a new column and insert data\n",
    "newdata.at[0, \"name\"] = \"Tunisia\"\n",
    "\n",
    "# Check the contents\n",
    "newdata"
   ]
  },
  {
   "cell_type": "code",
   "execution_count": 45,
   "id": "776e889b-1f2c-447d-9e9e-4a955c523304",
   "metadata": {},
   "outputs": [],
   "source": [
    "data =data.to_crs(epsg=3035)"
   ]
  },
  {
   "cell_type": "code",
   "execution_count": 46,
   "id": "9a78c69f-40e6-4a06-af40-ee8f1d0c7f0c",
   "metadata": {},
   "outputs": [
    {
     "data": {
      "text/plain": [
       "<Axes: >"
      ]
     },
     "execution_count": 46,
     "metadata": {},
     "output_type": "execute_result"
    },
    {
     "data": {
      "image/png": "[encoded data removed]",
      "text/plain": [
       "<Figure size 640x480 with 1 Axes>"
      ]
     },
     "metadata": {},
     "output_type": "display_data"
    }
   ],
   "source": [
    "data.plot()"
   ]
  },
  {
   "cell_type": "code",
   "execution_count": 47,
   "id": "5d7dc8e6-ae09-4061-b239-40e337f5386f",
   "metadata": {},
   "outputs": [
    {
     "data": {
      "text/html": [
       "<div>\n",
       "<style scoped>\n",
       "    .dataframe tbody tr th:only-of-type {\n",
       "        vertical-align: middle;\n",
       "    }\n",
       "\n",
       "    .dataframe tbody tr th {\n",
       "        vertical-align: top;\n",
       "    }\n",
       "\n",
       "    .dataframe thead th {\n",
       "        text-align: right;\n",
       "    }\n",
       "</style>\n",
       "<table border=\"1\" class=\"dataframe\">\n",
       "  <thead>\n",
       "    <tr style=\"text-align: right;\">\n",
       "      <th></th>\n",
       "      <th>ID_0</th>\n",
       "      <th>ISO</th>\n",
       "      <th>NAME_0</th>\n",
       "      <th>ID_1</th>\n",
       "      <th>NAME_1</th>\n",
       "      <th>TYPE_1</th>\n",
       "      <th>ENGTYPE_1</th>\n",
       "      <th>NL_NAME_1</th>\n",
       "      <th>VARNAME_1</th>\n",
       "      <th>geometry</th>\n",
       "    </tr>\n",
       "  </thead>\n",
       "  <tbody>\n",
       "    <tr>\n",
       "      <th>0</th>\n",
       "      <td>234</td>\n",
       "      <td>TUN</td>\n",
       "      <td>Tunisia</td>\n",
       "      <td>1</td>\n",
       "      <td>Ariana</td>\n",
       "      <td>Wilayat</td>\n",
       "      <td>Governorate</td>\n",
       "      <td>NaN</td>\n",
       "      <td>Al Aryiānah|L'Ariana|Tunis Ariana|Al Aryānah</td>\n",
       "      <td>MULTIPOLYGON (((4339910.100 1557995.832, 43399...</td>\n",
       "    </tr>\n",
       "    <tr>\n",
       "      <th>1</th>\n",
       "      <td>234</td>\n",
       "      <td>TUN</td>\n",
       "      <td>Tunisia</td>\n",
       "      <td>2</td>\n",
       "      <td>Béja</td>\n",
       "      <td>Wilayat</td>\n",
       "      <td>Governorate</td>\n",
       "      <td>NaN</td>\n",
       "      <td>Bājah|Béja</td>\n",
       "      <td>POLYGON ((4239314.224 1565640.447, 4239397.834...</td>\n",
       "    </tr>\n",
       "    <tr>\n",
       "      <th>2</th>\n",
       "      <td>234</td>\n",
       "      <td>TUN</td>\n",
       "      <td>Tunisia</td>\n",
       "      <td>3</td>\n",
       "      <td>Ben Arous (Tunis Sud)</td>\n",
       "      <td>Wilayat</td>\n",
       "      <td>Governorate</td>\n",
       "      <td>NaN</td>\n",
       "      <td>Bin `Arūs|Ben Arous|Tunis Ben Arous</td>\n",
       "      <td>POLYGON ((4347536.034 1526869.662, 4347536.138...</td>\n",
       "    </tr>\n",
       "    <tr>\n",
       "      <th>3</th>\n",
       "      <td>234</td>\n",
       "      <td>TUN</td>\n",
       "      <td>Tunisia</td>\n",
       "      <td>4</td>\n",
       "      <td>Bizerte</td>\n",
       "      <td>Wilayat</td>\n",
       "      <td>Governorate</td>\n",
       "      <td>NaN</td>\n",
       "      <td>BanzartBanzart|Bensert|Binzart|Biserta|Bizerta</td>\n",
       "      <td>MULTIPOLYGON (((4341906.381 1565615.558, 43419...</td>\n",
       "    </tr>\n",
       "    <tr>\n",
       "      <th>4</th>\n",
       "      <td>234</td>\n",
       "      <td>TUN</td>\n",
       "      <td>Tunisia</td>\n",
       "      <td>5</td>\n",
       "      <td>Gabès</td>\n",
       "      <td>Wilayat</td>\n",
       "      <td>Governorate</td>\n",
       "      <td>NaN</td>\n",
       "      <td>Qābis|Gabās</td>\n",
       "      <td>POLYGON ((4291075.341 1251860.498, 4292573.762...</td>\n",
       "    </tr>\n",
       "  </tbody>\n",
       "</table>\n",
       "</div>"
      ],
      "text/plain": [
       "   ID_0  ISO   NAME_0  ID_1                 NAME_1   TYPE_1    ENGTYPE_1  \\\n",
       "0   234  TUN  Tunisia     1                 Ariana  Wilayat  Governorate   \n",
       "1   234  TUN  Tunisia     2                   Béja  Wilayat  Governorate   \n",
       "2   234  TUN  Tunisia     3  Ben Arous (Tunis Sud)  Wilayat  Governorate   \n",
       "3   234  TUN  Tunisia     4                Bizerte  Wilayat  Governorate   \n",
       "4   234  TUN  Tunisia     5                  Gabès  Wilayat  Governorate   \n",
       "\n",
       "   NL_NAME_1                                       VARNAME_1  \\\n",
       "0        NaN    Al Aryiānah|L'Ariana|Tunis Ariana|Al Aryānah   \n",
       "1        NaN                                      Bājah|Béja   \n",
       "2        NaN             Bin `Arūs|Ben Arous|Tunis Ben Arous   \n",
       "3        NaN  BanzartBanzart|Bensert|Binzart|Biserta|Bizerta   \n",
       "4        NaN                                     Qābis|Gabās   \n",
       "\n",
       "                                            geometry  \n",
       "0  MULTIPOLYGON (((4339910.100 1557995.832, 43399...  \n",
       "1  POLYGON ((4239314.224 1565640.447, 4239397.834...  \n",
       "2  POLYGON ((4347536.034 1526869.662, 4347536.138...  \n",
       "3  MULTIPOLYGON (((4341906.381 1565615.558, 43419...  \n",
       "4  POLYGON ((4291075.341 1251860.498, 4292573.762...  "
      ]
     },
     "execution_count": 47,
     "metadata": {},
     "output_type": "execute_result"
    }
   ],
   "source": [
    "data.head()"
   ]
  },
  {
   "cell_type": "code",
   "execution_count": 48,
   "id": "82fb0798-3859-46c7-bc89-65c14797aa85",
   "metadata": {},
   "outputs": [
    {
     "name": "stderr",
     "output_type": "stream",
     "text": [
      "C:\\Users\\SAV03\\AppData\\Local\\Temp\\ipykernel_18176\\129782738.py:1: FutureWarning: The geopandas.dataset module is deprecated and will be removed in GeoPandas 1.0. You can get the original 'naturalearth_lowres' data from https://www.naturalearthdata.com/downloads/110m-cultural-vectors/.\n",
      "  fp = gpd.datasets.get_path(\"naturalearth_lowres\")\n"
     ]
    },
    {
     "data": {
      "text/plain": [
       "<Geographic 2D CRS: EPSG:4326>\n",
       "Name: WGS 84\n",
       "Axis Info [ellipsoidal]:\n",
       "- Lat[north]: Geodetic latitude (degree)\n",
       "- Lon[east]: Geodetic longitude (degree)\n",
       "Area of Use:\n",
       "- name: World.\n",
       "- bounds: (-180.0, -90.0, 180.0, 90.0)\n",
       "Datum: World Geodetic System 1984 ensemble\n",
       "- Ellipsoid: WGS 84\n",
       "- Prime Meridian: Greenwich"
      ]
     },
     "execution_count": 48,
     "metadata": {},
     "output_type": "execute_result"
    }
   ],
   "source": [
    "fp = gpd.datasets.get_path(\"naturalearth_lowres\")\n",
    "admin = gpd.read_file(fp)\n",
    "admin.crs"
   ]
  },
  {
   "cell_type": "code",
   "execution_count": null,
   "id": "efade98e-57ce-45ab-9bd8-da6372fcf4c9",
   "metadata": {},
   "outputs": [],
   "source": []
  }
 ],
 "metadata": {
  "kernelspec": {
   "display_name": "Python 3 (ipykernel)",
   "language": "python",
   "name": "python3"
  },
  "language_info": {
   "codemirror_mode": {
    "name": "ipython",
    "version": 3
   },
   "file_extension": ".py",
   "mimetype": "text/x-python",
   "name": "python",
   "nbconvert_exporter": "python",
   "pygments_lexer": "ipython3",
   "version": "3.11.4"
  }
 },
 "nbformat": 4,
 "nbformat_minor": 5
}
